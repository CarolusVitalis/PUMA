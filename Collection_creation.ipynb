{
 "cells": [
  {
   "cell_type": "code",
   "execution_count": null,
   "metadata": {},
   "outputs": [],
   "source": [
    "response = requests.post(\n",
    "    'https://synbiohub.org/login',\n",
    "    headers={\n",
    "        'Accept': 'text/plain'\n",
    "    },\n",
    "    data={\n",
    "        'email': input('SynBioHub email: '),\n",
    "        'password' : getpass.getpass('Password: '),\n",
    "        },\n",
    ")\n",
    "\n",
    "print(response.status_code)\n",
    "print(response.content)"
   ]
  },
  {
   "cell_type": "code",
   "execution_count": null,
   "metadata": {},
   "outputs": [],
   "source": [
    "import requests\n",
    "\n",
    "response = requests.post(\n",
    "    '<SynBioHub URL>/submit',\n",
    "    headers={\n",
    "        'X-authorization': '<token>',\n",
    "        'Accept': 'text/plain'\n",
    "    },\n",
    "    files={\n",
    "    'files': open('<file.txt>','rb'),\n",
    "    },\n",
    "    data={\n",
    "        'id': 'iGEM_2019_Promoters',\n",
    "        'version' : '1',\n",
    "        'name' : 'iGEM 2019 Promoters',\n",
    "        'description' : 'Promoters from the iGEM 2019 distribution',\n",
    "        'citations' : '',\n",
    "        'overwrite_merge' : '3'\n",
    "    },\n",
    "\n",
    ")\n",
    "\n",
    "print(response.status_code)\n",
    "print(response.content)"
   ]
  }
 ],
 "metadata": {
  "language_info": {
   "name": "python"
  }
 },
 "nbformat": 4,
 "nbformat_minor": 2
}
