{
 "cells": [
  {
   "cell_type": "markdown",
   "metadata": {},
   "source": [
    "Part Retriever"
   ]
  },
  {
   "cell_type": "code",
   "execution_count": null,
   "metadata": {},
   "outputs": [],
   "source": [
    "#List of parts to get from the iGEM Registry\n",
    "\n",
    "def get_parts_list():\n",
    "    parts_list = []\n",
    "    code_block = '''\n",
    "    BBa_B0015\n",
    "    BBa_K2560034\n",
    "    BBa_K2560035\n",
    "    BBa_K2637017\n",
    "    BBa_K2560093\n",
    "    BBa_K2560091\n",
    "    BBa_K2560089\n",
    "    BBa_K2560081\n",
    "    BBa_K2637012\n",
    "    BBa_K2637014\n",
    "    '''\n",
    "    lines = code_block.strip().split('\\n')\n",
    "    for line in lines:\n",
    "        parts_list.append(line.strip())\n",
    "    return parts_list\n",
    "\n",
    "parts = get_parts_list()\n",
    "print(parts)\n"
   ]
  },
  {
   "cell_type": "code",
   "execution_count": null,
   "metadata": {},
   "outputs": [],
   "source": [
    "import requests\n",
    "import os\n",
    "import pandas as pd\n",
    "\n",
    "def create_menu():\n",
    "    part_type = input(\"Enter the number corresponding to the part type:\\n\"\n",
    "                      \"1. Promoter\\n\"\n",
    "                      \"2. RBS\\n\"\n",
    "                      \"3. CDS\\n\"\n",
    "                      \"4. Terminator\\n\")\n",
    "    \n",
    "    if part_type == \"1\":\n",
    "        return \"Promoter\"\n",
    "    elif part_type == \"2\":\n",
    "        return \"RBS\"\n",
    "    elif part_type == \"3\":\n",
    "        return \"CDS\"\n",
    "    elif part_type == \"4\":\n",
    "        return \"Terminator\"\n",
    "    else:\n",
    "        print(\"Invalid input. Please try again.\")\n",
    "        return create_menu()\n",
    "\n",
    "def retrieve_dna_sequence(parts):\n",
    "    sequences = []\n",
    "    \n",
    "    for part in parts:\n",
    "        url = f\"https://parts.igem.org/cgi/partsdb/composite_edit/putseq.cgi?part={part}\"\n",
    "        response = requests.get(url)\n",
    "        \n",
    "        if response.status_code == 200:\n",
    "            sequence = response.text.strip()\n",
    "            sequences.append({'Name': part, 'DNA Sequence': sequence})\n",
    "        else:\n",
    "            sequences.append({'Name': part, 'DNA Sequence': 'Failed to retrieve sequence'})\n",
    "    \n",
    "    df = pd.DataFrame(sequences)\n",
    "    return df\n",
    "\n",
    "df = retrieve_dna_sequence(parts)\n",
    "print(df)\n",
    "\n",
    "part_type = create_menu()\n",
    "file_name = f\"{part_type}_Part_Sequences.csv\"\n",
    "\n",
    "output_dir = \"./csv\"\n",
    "if not os.path.exists(output_dir):\n",
    "    os.makedirs(output_dir)\n",
    "\n",
    "file_path = os.path.join(output_dir, file_name)\n",
    "df.to_csv(file_path, index=False)\n",
    "print(f\"Exported DataFrame as CSV: {file_path}\")\n",
    "\n"
   ]
  }
 ],
 "metadata": {
  "kernelspec": {
   "display_name": "base",
   "language": "python",
   "name": "python3"
  },
  "language_info": {
   "codemirror_mode": {
    "name": "ipython",
    "version": 3
   },
   "file_extension": ".py",
   "mimetype": "text/x-python",
   "name": "python",
   "nbconvert_exporter": "python",
   "pygments_lexer": "ipython3",
   "version": "3.11.7"
  }
 },
 "nbformat": 4,
 "nbformat_minor": 2
}
