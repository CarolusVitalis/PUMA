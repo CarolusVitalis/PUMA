{
 "cells": [
  {
   "cell_type": "markdown",
   "metadata": {},
   "source": [
    "# PUMA: Promoter Unraveling through Machine-learning Algorithms"
   ]
  },
  {
   "cell_type": "markdown",
   "metadata": {},
   "source": [
    "### _AI model to identify promoter sequences in existing databases_"
   ]
  },
  {
   "cell_type": "markdown",
   "metadata": {},
   "source": [
    "### Dependencies"
   ]
  },
  {
   "cell_type": "markdown",
   "metadata": {},
   "source": [
    "Here, we check if the dependencies are installed, and if they are not, ask the user if they want to install them"
   ]
  },
  {
   "cell_type": "code",
   "execution_count": null,
   "metadata": {},
   "outputs": [],
   "source": [
    "import subprocess\n",
    "import sys\n",
    "\n",
    "# List of dependencies\n",
    "dependencies = [\"pandas\", \"scikit-learn\", \"seaborn\", \"plotnine\", \"sbol_utilities\"]\n",
    "\n",
    "# Function to check if a module is installed\n",
    "def is_module_installed(module_name):\n",
    "    try:\n",
    "        __import__(module_name)\n",
    "        return True\n",
    "    except ImportError:\n",
    "        return False\n",
    "\n",
    "# Function to install a module\n",
    "def install_module(module_name):\n",
    "    subprocess.check_call([sys.executable, \"-m\", \"pip\", \"install\", module_name])\n",
    "\n",
    "# Check each dependency\n",
    "for module in dependencies:\n",
    "    if not is_module_installed(module):\n",
    "        print(f\"The module '{module}' is not installed.\")\n",
    "        answer = input(f\"Do you want to install '{module}'? (yes/no): \")\n",
    "        if answer.lower() == \"yes\":\n",
    "            install_module(module)\n",
    "            print(f\"'{module}' has been installed.\")\n",
    "        else:\n",
    "            print(f\"'{module}' has not been installed.\")\n",
    "    else:\n",
    "        print(f\"The module '{module}' is already installed.\")"
   ]
  },
  {
   "cell_type": "markdown",
   "metadata": {},
   "source": [
    "We import the packages we need"
   ]
  },
  {
   "cell_type": "code",
   "execution_count": null,
   "metadata": {},
   "outputs": [],
   "source": [
    "import seaborn as sns\n",
    "import getpass\n",
    "import requests\n",
    "#import sbol"
   ]
  },
  {
   "cell_type": "markdown",
   "metadata": {},
   "source": [
    "### Accessing SynBioHub to retrieve the information"
   ]
  },
  {
   "cell_type": "markdown",
   "metadata": {},
   "source": [
    "Then, we login into SynBioHub to retrieve the promoters' values. We ask the user for their credentials"
   ]
  },
  {
   "cell_type": "code",
   "execution_count": null,
   "metadata": {},
   "outputs": [],
   "source": [
    "response = requests.post(\n",
    "    'https://synbiohub.org/login',\n",
    "    headers={\n",
    "        'Accept': 'text/plain'\n",
    "    },\n",
    "    data={\n",
    "        'email': input('SynBioHub email: '),\n",
    "        'password' : getpass.getpass('Password: '),\n",
    "        },\n",
    ")\n",
    "\n",
    "print(response.status_code)\n",
    "print(response.content)"
   ]
  },
  {
   "cell_type": "markdown",
   "metadata": {},
   "source": [
    "Here we search for all the collections in the database"
   ]
  },
  {
   "cell_type": "code",
   "execution_count": null,
   "metadata": {},
   "outputs": [],
   "source": [
    "response = requests.get(\n",
    "    'https://synbiohub.org/rootCollections',\n",
    "    headers={\n",
    "        'Accept': 'text/plain',\n",
    "        'X-authorization': response.content\n",
    "        },\n",
    ")\n",
    "\n",
    "print(response.status_code)\n",
    "print(response.content)"
   ]
  },
  {
   "cell_type": "markdown",
   "metadata": {},
   "source": [
    "Here we look for a specific collection"
   ]
  },
  {
   "cell_type": "code",
   "execution_count": null,
   "metadata": {},
   "outputs": [],
   "source": [
    "response = requests.get(\n",
    "    'https://synbiohub.org/user/carolusvitalis/iGEM_2019_Distribution_Kit_Promoters/iGEM_2019_Distribution_Kit_Promoters_collection/1/sbol',\n",
    "    headers={\n",
    "        'Accept': 'text/plain',\n",
    "        'X-authorization': response.content\n",
    "        },\n",
    ")\n",
    "\n",
    "print(response.status_code)\n",
    "print(response.content)"
   ]
  },
  {
   "cell_type": "code",
   "execution_count": null,
   "metadata": {},
   "outputs": [],
   "source": [
    "import pandas as pd\n",
    "\n",
    "# Search for DNA sequences using regular expression\n",
    "dna_sequences = re.findall(r'<sbol:displayId>(.*?)_sequence</sbol:displayId>.*?<sbol:elements>(.*?)</sbol:elements>', response.content.decode('utf-8'), re.DOTALL)\n",
    "\n",
    "# Create a pandas dataframe\n",
    "df = pd.DataFrame(dna_sequences, columns=['Name', 'DNA Sequence'])\n",
    "\n",
    "# Print the dataframe\n",
    "print(df)\n"
   ]
  },
  {
   "cell_type": "markdown",
   "metadata": {},
   "source": [
    "Alternative version to run it using local SBOL files instead of SynBioHub"
   ]
  },
  {
   "cell_type": "code",
   "execution_count": null,
   "metadata": {},
   "outputs": [],
   "source": [
    "collection = open('/Users/carolusvitalis/Downloads/iGEM_2019_Distribution_Kit_Promoters_collection.xml').read()\n",
    "print(collection)"
   ]
  },
  {
   "cell_type": "code",
   "execution_count": null,
   "metadata": {},
   "outputs": [],
   "source": [
    "# Search for DNA sequences using regular expression\n",
    "dna_sequences = re.findall(r'<sbol:displayId>(.*?)_sequence</sbol:displayId>.*?<sbol:elements>(.*?)</sbol:elements>', collection, re.DOTALL)\n",
    "\n",
    "# Create a pandas dataframe\n",
    "df = pd.DataFrame(dna_sequences, columns=['Name', 'DNA Sequence'])\n",
    "\n",
    "# Print the dataframe\n",
    "print(df)\n"
   ]
  },
  {
   "cell_type": "markdown",
   "metadata": {},
   "source": [
    "The following code is for reference only"
   ]
  },
  {
   "cell_type": "code",
   "execution_count": null,
   "metadata": {},
   "outputs": [],
   "source": [
    "import sklearn.cluster                            # for clustering task\n",
    "import sklearn.model_selection                    # function like train_test_split\n",
    "from sklearn import datasets                      # sklearn build in datasets\n",
    "import sklearn.decomposition                      # PCA\n",
    "import sklearn.feature_extraction                 # Define image and text datas\n",
    "import sklearn.feature_selection                  # Find meaningful features\n"
   ]
  },
  {
   "cell_type": "code",
   "execution_count": null,
   "metadata": {},
   "outputs": [],
   "source": [
    "from sklearn.model_selection import train_test_split\n",
    "X_iris, y_iris = iris.drop('species', axis=1), iris['species']\n",
    "Xtrain, Xtest, ytrain, ytest = train_test_split(X_iris, y_iris,\n",
    "                                                random_state=1)"
   ]
  },
  {
   "cell_type": "code",
   "execution_count": null,
   "metadata": {},
   "outputs": [],
   "source": [
    "from sklearn.naive_bayes import GaussianNB # 1. choose model class\n",
    "model = GaussianNB()                       # 2. instantiate model\n",
    "model.fit(Xtrain, ytrain)                  # 3. fit model to data\n",
    "y_model = model.predict(Xtest)             # 4. predict on new data"
   ]
  },
  {
   "cell_type": "code",
   "execution_count": null,
   "metadata": {},
   "outputs": [],
   "source": [
    "doc = sbol.Document()\n",
    "doc.read(response.content)\n",
    "\n",
    "for component in doc.componentDefinitions:\n",
    "    print(f'Display ID: {component.displayId}')\n",
    "    print(f'DNA Sequence: {component.sequence.elements}')"
   ]
  },
  {
   "cell_type": "code",
   "execution_count": null,
   "metadata": {},
   "outputs": [],
   "source": [
    "from sklearn.metrics import accuracy_score\n",
    "accuracy_score(ytest, y_model)"
   ]
  }
 ],
 "metadata": {
  "kernelspec": {
   "display_name": "Python 3",
   "language": "python",
   "name": "python3"
  },
  "language_info": {
   "codemirror_mode": {
    "name": "ipython",
    "version": 3
   },
   "file_extension": ".py",
   "mimetype": "text/x-python",
   "name": "python",
   "nbconvert_exporter": "python",
   "pygments_lexer": "ipython3",
   "version": "3.11.7"
  }
 },
 "nbformat": 4,
 "nbformat_minor": 2
}
