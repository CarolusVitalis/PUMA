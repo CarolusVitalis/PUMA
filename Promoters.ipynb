{
 "cells": [
  {
   "cell_type": "markdown",
   "metadata": {},
   "source": [
    "# PUMA: Promoter Unraveling through Machine-learning Algorithms\n",
    "<img src=\"https://raw.githubusercontent.com/CarolusVitalis/PUMA/main/Images/PUMA_Logo.png\" alt=\"PUMA Logo\" width=\"200\"/>\n"
   ]
  },
  {
   "cell_type": "markdown",
   "metadata": {},
   "source": [
    "### _AI model to identify promoter sequences in existing databases_"
   ]
  },
  {
   "cell_type": "markdown",
   "metadata": {},
   "source": [
    "### Dependencies"
   ]
  },
  {
   "cell_type": "markdown",
   "metadata": {},
   "source": [
    "Here, we check if the dependencies are installed, and if they are not, ask the user if they want to install them"
   ]
  },
  {
   "cell_type": "code",
   "execution_count": null,
   "metadata": {},
   "outputs": [],
   "source": [
    "import subprocess\n",
    "import sys\n",
    "\n",
    "# List of dependencies\n",
    "dependencies = [\"pandas\", \"scikit-learn\", \"seaborn\", \"plotnine\", \"sbol_utilities\"]\n",
    "\n",
    "# Function to check if a module is installed\n",
    "def is_module_installed(module_name):\n",
    "    try:\n",
    "        __import__(module_name)\n",
    "        return True\n",
    "    except ImportError:\n",
    "        return False\n",
    "\n",
    "# Function to install a module\n",
    "def install_module(module_name):\n",
    "    subprocess.check_call([sys.executable, \"-m\", \"pip\", \"install\", module_name])\n",
    "\n",
    "# Check each dependency\n",
    "for module in dependencies:\n",
    "    if not is_module_installed(module):\n",
    "        print(f\"The module '{module}' is not installed.\")\n",
    "        answer = input(f\"Do you want to install '{module}'? (yes/no): \")\n",
    "        if answer.lower() == \"yes\":\n",
    "            install_module(module)\n",
    "            print(f\"'{module}' has been installed.\")\n",
    "        else:\n",
    "            print(f\"'{module}' has not been installed.\")\n",
    "    else:\n",
    "        print(f\"The module '{module}' is already installed.\")"
   ]
  },
  {
   "cell_type": "markdown",
   "metadata": {},
   "source": [
    "We import the packages we need"
   ]
  },
  {
   "cell_type": "code",
   "execution_count": null,
   "metadata": {},
   "outputs": [],
   "source": [
    "import seaborn as sns\n",
    "import getpass\n",
    "import requests\n",
    "import re\n",
    "import sbol3\n",
    "import pandas as pd"
   ]
  },
  {
   "cell_type": "markdown",
   "metadata": {},
   "source": [
    "### Accessing SynBioHub to retrieve the information"
   ]
  },
  {
   "cell_type": "markdown",
   "metadata": {},
   "source": [
    "Then, we login into SynBioHub to retrieve the promoters' values. We ask the user for their credentials"
   ]
  },
  {
   "cell_type": "code",
   "execution_count": null,
   "metadata": {},
   "outputs": [],
   "source": [
    "response = requests.post(\n",
    "    'https://synbiohub.org/login',\n",
    "    headers={\n",
    "        'Accept': 'text/plain'\n",
    "    },\n",
    "    data={\n",
    "        'email': input('SynBioHub email: '),\n",
    "        'password' : getpass.getpass('Password: '),\n",
    "        },\n",
    ")\n",
    "\n",
    "print(response.status_code)\n",
    "print(response.content)"
   ]
  },
  {
   "cell_type": "markdown",
   "metadata": {},
   "source": [
    "Here we search for all the collections in the database"
   ]
  },
  {
   "cell_type": "code",
   "execution_count": null,
   "metadata": {},
   "outputs": [],
   "source": [
    "response = requests.get(\n",
    "    'https://synbiohub.org/rootCollections',\n",
    "    headers={\n",
    "        'Accept': 'text/plain',\n",
    "        'X-authorization': response.content\n",
    "        },\n",
    ")\n",
    "\n",
    "print(response.status_code)\n",
    "print(response.content)"
   ]
  },
  {
   "cell_type": "markdown",
   "metadata": {},
   "source": [
    "Here we look for a specific collection"
   ]
  },
  {
   "cell_type": "code",
   "execution_count": null,
   "metadata": {},
   "outputs": [],
   "source": [
    "response = requests.get(\n",
    "    'https://synbiohub.org/user/carolusvitalis/iGEM_2019_Distribution_Kit_Promoters/iGEM_2019_Distribution_Kit_Promoters_collection/1/sbol',\n",
    "    headers={\n",
    "        'Accept': 'text/plain',\n",
    "        'X-authorization': response.content\n",
    "        },\n",
    ")\n",
    "\n",
    "print(response.status_code)\n",
    "print(response.content)"
   ]
  },
  {
   "cell_type": "code",
   "execution_count": null,
   "metadata": {},
   "outputs": [],
   "source": [
    "import pandas as pd\n",
    "\n",
    "# Search for DNA sequences using regular expression\n",
    "dna_sequences = re.findall(r'<sbol:displayId>(.*?)_sequence</sbol:displayId>.*?<sbol:elements>(.*?)</sbol:elements>', response.content.decode('utf-8'), re.DOTALL)\n",
    "\n",
    "# Create a pandas dataframe\n",
    "df = pd.DataFrame(dna_sequences, columns=['Name', 'DNA Sequence'])\n",
    "\n",
    "# Print the dataframe\n",
    "print(df)\n"
   ]
  },
  {
   "cell_type": "markdown",
   "metadata": {},
   "source": [
    "#### Alternative version to run it using local SBOL files instead of SynBioHub\n"
   ]
  },
  {
   "cell_type": "markdown",
   "metadata": {},
   "source": [
    "## Load in training data"
   ]
  },
  {
   "cell_type": "code",
   "execution_count": null,
   "metadata": {},
   "outputs": [],
   "source": [
    "promoters_2019 = open('./SBOL_Files/iGEM_2019_Promoters_collection.xml').read()\n",
    "\n",
    "rbs_2019 = open('./SBOL_Files/iGEM_2019_RBSs_collection.xml').read()\n",
    "\n",
    "# Search for DNA sequences using regular expression\n",
    "p19_dna_sequences = re.findall(r'<sbol:displayId>(.*?)_sequence</sbol:displayId>.*?<sbol:elements>(.*?)</sbol:elements>', promoters_2019, re.DOTALL)\n",
    "\n",
    "# Create a pandas dataframe\n",
    "p19_df = pd.DataFrame(p19_dna_sequences, columns=['Name', 'DNA Sequence'])\n",
    "print(len(p19_df))\n",
    "# Print the dataframe\n",
    "#print(p19_df)\n",
    "\n",
    "rbs19_dna_sequences = re.findall(r'<sbol:displayId>(.*?)_sequence</sbol:displayId>.*?<sbol:elements>(.*?)</sbol:elements>', rbs_2019, re.DOTALL)\n",
    "rbs19_df = pd.DataFrame(rbs19_dna_sequences, columns=['Name', 'DNA Sequence'])\n",
    "#print(rbs19_df)\n",
    "print(len(rbs19_df))\n",
    "\n",
    "# why is the first name of the df the name of the collection? \n",
    "# for now, will remove first row so that we have realistic names\n",
    "p19_df = p19_df.drop(p19_df.index[0])\n",
    "\n",
    "# add in promoter label for these seqs\n",
    "p19_df['Element'] = \"Promoter\"\n",
    "\n",
    "rbs19_df = rbs19_df.drop(rbs19_df.index[0])\n",
    "rbs19_df['Element'] = \"RBS\"\n"
   ]
  },
  {
   "cell_type": "markdown",
   "metadata": {},
   "source": [
    "## Load in target dataset to apply model"
   ]
  },
  {
   "cell_type": "code",
   "execution_count": null,
   "metadata": {},
   "outputs": [],
   "source": [
    "promoters_toValidate = open('./SBOL_Files/iGEM_Promoters_collection.xml').read()\n",
    "\n",
    "allPromoters_dna_sequences = re.findall(r'<sbol:displayId>(.*?)_sequence</sbol:displayId>.*?<sbol:elements>(.*?)</sbol:elements>', promoters_toValidate, re.DOTALL)\n",
    "\n",
    "# Create a pandas dataframe\n",
    "allPromoters_df = pd.DataFrame(allPromoters_dna_sequences, columns=['Name', 'DNA Sequence'])\n",
    "allPromoters_df = allPromoters_df.drop(allPromoters_df.index[0])\n",
    "print(len(allPromoters_df))"
   ]
  },
  {
   "cell_type": "markdown",
   "metadata": {},
   "source": [
    "## Concatenate promoter and RBS dataframes for training"
   ]
  },
  {
   "cell_type": "code",
   "execution_count": null,
   "metadata": {},
   "outputs": [],
   "source": [
    "promoters_rbs_df = pd.concat([rbs19_df, p19_df], ignore_index=True)\n",
    "print(promoters_rbs_df)\n"
   ]
  },
  {
   "cell_type": "markdown",
   "metadata": {},
   "source": [
    "## 1. Vectorizing sequences into k-mers"
   ]
  },
  {
   "cell_type": "code",
   "execution_count": null,
   "metadata": {},
   "outputs": [],
   "source": [
    "from sklearn.naive_bayes import GaussianNB\n",
    "from sklearn.metrics import accuracy_score\n",
    "from sklearn.feature_extraction.text import CountVectorizer\n",
    "from sklearn.model_selection import train_test_split\n",
    "\n",
    "# Use CountVectorizer to initialize k-mer splitting \n",
    "# using k=4 for first pass\n",
    "vectorizer = CountVectorizer(analyzer='char', ngram_range=(3, 3))\n",
    "\n",
    "# apply the vectorizer to the concat. dataframe\n",
    "X = vectorizer.fit_transform(promoters_rbs_df['DNA Sequence']).toarray()\n",
    "y = promoters_rbs_df['Element']"
   ]
  },
  {
   "cell_type": "markdown",
   "metadata": {},
   "source": [
    "## 2. Splitting training and test set"
   ]
  },
  {
   "cell_type": "code",
   "execution_count": null,
   "metadata": {},
   "outputs": [],
   "source": [
    "# these parameters are standard, but we can tweak if needed\n",
    "X_train, X_test, y_train, y_test = train_test_split(X, y, test_size=0.25, random_state=42)"
   ]
  },
  {
   "cell_type": "markdown",
   "metadata": {},
   "source": [
    "## 3. Train the model"
   ]
  },
  {
   "cell_type": "code",
   "execution_count": null,
   "metadata": {},
   "outputs": [],
   "source": [
    "model = GaussianNB()\n",
    "model.fit(X_train, y_train)"
   ]
  },
  {
   "cell_type": "markdown",
   "metadata": {},
   "source": [
    "## 4. Validate"
   ]
  },
  {
   "cell_type": "code",
   "execution_count": null,
   "metadata": {},
   "outputs": [],
   "source": [
    "predictions = model.predict(X_test)\n",
    "accuracy = accuracy_score(y_test, predictions)\n",
    "print(\"Accuracy:\", accuracy)\n"
   ]
  },
  {
   "cell_type": "markdown",
   "metadata": {},
   "source": [
    "## 5. Apply to full dataset to classify promoters"
   ]
  },
  {
   "cell_type": "code",
   "execution_count": null,
   "metadata": {},
   "outputs": [],
   "source": [
    "X_new = vectorizer.transform(allPromoters_df['DNA Sequence']).toarray()\n",
    "\n",
    "# Use the trained model to predict the sequence types\n",
    "predictions_new = model.predict(X_new)\n",
    "\n",
    "# Add predictions to the new DataFrame\n",
    "allPromoters_df['PredictedType'] = predictions_new\n",
    "\n",
    "# Filter to identify sequences predicted as promoters\n",
    "valid_promoters_df = allPromoters_df[allPromoters_df['PredictedType'] == 'Promoter']\n",
    "print(len(allPromoters_df))\n",
    "print(len(valid_promoters_df))\n"
   ]
  },
  {
   "cell_type": "code",
   "execution_count": null,
   "metadata": {},
   "outputs": [],
   "source": [
    "training_nolabels = promoters_rbs_df.drop('Element', axis=1)\n",
    "\n",
    "X_old = vectorizer.transform(training_nolabels['DNA Sequence']).toarray()\n",
    "\n",
    "# Use the trained model to predict the sequence types\n",
    "predictions_old = model.predict(X_old)\n",
    "\n",
    "# Add predictions to the new DataFrame\n",
    "training_nolabels['PredictedType'] = predictions_old\n",
    "\n",
    "# Filter to identify sequences predicted as promoters\n",
    "valid_promoters_old_df = training_nolabels[training_nolabels['PredictedType'] == 'Promoter']\n",
    "print(len(promoters_rbs_df))\n",
    "print(len(valid_promoters_old_df))"
   ]
  },
  {
   "cell_type": "code",
   "execution_count": null,
   "metadata": {},
   "outputs": [],
   "source": [
    "training_nolabels = promoters_rbs_df.drop('Element', axis=1)\n",
    "\n",
    "X_old = vectorizer.transform(training_nolabels['DNA Sequence']).toarray()\n",
    "\n",
    "# Use the trained model to predict the sequence types\n",
    "predictions_old = model.predict(X_old)\n",
    "\n",
    "# Add predictions to the new DataFrame\n",
    "training_nolabels['PredictedType'] = predictions_old\n",
    "\n",
    "# Filter to identify sequences predicted as promoters\n",
    "valid_promoters_old_df = training_nolabels[training_nolabels['PredictedType'] == 'Promoter']\n",
    "print(len(promoters_rbs_df))\n",
    "print(len(valid_promoters_old_df))"
   ]
  }
 ],
 "metadata": {
  "kernelspec": {
   "display_name": "Python 3",
   "language": "python",
   "name": "python3"
  },
  "language_info": {
   "codemirror_mode": {
    "name": "ipython",
    "version": 3
   },
   "file_extension": ".py",
   "mimetype": "text/x-python",
   "name": "python",
   "nbconvert_exporter": "python",
   "pygments_lexer": "ipython3",
   "version": "3.11.7"
  }
 },
 "nbformat": 4,
 "nbformat_minor": 2
}
